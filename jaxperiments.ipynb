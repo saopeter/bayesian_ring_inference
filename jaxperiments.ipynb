{
 "cells": [
  {
   "cell_type": "markdown",
   "metadata": {},
   "source": [
    "This is a mini notebook that presents some computations of interest, roughly following the outline of my BHI presentation. "
   ]
  },
  {
   "cell_type": "code",
   "execution_count": 2,
   "metadata": {},
   "outputs": [
    {
     "name": "stdout",
     "output_type": "stream",
     "text": [
      "Warning: No NFFT installed! Cannot use nfft functions\n",
      "Warning: No NFFT installed!\n",
      "Warning: No NFFT installed! Cannot use nfft functions\n",
      "Warning: No NFFT installed! Cannot use nfft functions\n",
      "Welcome to eht-imaging! v 1.2.4 \n",
      "\n"
     ]
    }
   ],
   "source": [
    "import jax\n",
    "import jax.numpy as jnp\n",
    "import numpy as np\n",
    "import matplotlib.pyplot as plt\n",
    "\n",
    "import ehtim as eh"
   ]
  },
  {
   "cell_type": "markdown",
   "metadata": {},
   "source": [
    "Let's do some microbenchmarking of JAX functions!\n",
    "\n",
    "Here is sample_uv as computed for a circular Gaussian model. We can try computing the Fourier transforms for all u and v points using the EHT2025 array:"
   ]
  },
  {
   "cell_type": "code",
   "execution_count": 4,
   "metadata": {},
   "outputs": [
    {
     "name": "stdout",
     "output_type": "stream",
     "text": [
      "Generating empty observation file . . . \n",
      "Adding gain + phase errors to data and applying a priori calibration . . . \n",
      "Adding thermal noise to data . . . \n",
      "41.3 µs ± 508 ns per loop (mean ± std. dev. of 7 runs, 10,000 loops each)\n",
      "114 µs ± 695 ns per loop (mean ± std. dev. of 7 runs, 10,000 loops each)\n",
      "14.6 µs ± 91.8 ns per loop (mean ± std. dev. of 7 runs, 100,000 loops each)\n"
     ]
    }
   ],
   "source": [
    "params = {'F0':1.3, 'x0':0, 'y0':0, 'FWHM':50*eh.RADPERUAS}\n",
    "\n",
    "eht = eh.array.load_txt('EHT2025.txt')\n",
    "model = eh.model.Model()\n",
    "model = model.add_circ_gauss(**params)\n",
    "tint_sec = 5\n",
    "tadv_sec = 3600\n",
    "tstart_hr = 0\n",
    "tstop_hr = 24\n",
    "bw_hz = 1e9\n",
    "obs = model.observe(eht, tint_sec, tadv_sec, tstart_hr, tstop_hr, bw_hz, ampcal=True, phasecal=True,seed=4)\n",
    "u = obs.data['u']\n",
    "v = obs.data['v']\n",
    "\n",
    "def np_circ_gauss_sample_uv(u, v):\n",
    "    val = (params['F0'] \n",
    "            * np.exp(-np.pi**2/(4.*np.log(2.)) * (u**2 + v**2) * params['FWHM']**2)\n",
    "            * np.exp(1j * 2.0 * np.pi * (u * params['x0'] + v * params['y0']))) \n",
    "    return val\n",
    "\n",
    "def jnp_circ_gauss_sample_uv(u, v):\n",
    "    val = (params['F0'] \n",
    "            * jnp.exp(-jnp.pi**2/(4.*jnp.log(2.)) * (u**2 + v**2) * params['FWHM']**2)\n",
    "            * jnp.exp(1j * 2.0 * jnp.pi * (u * params['x0'] + v * params['y0']))) \n",
    "    return val\n",
    "\n",
    "jit_jnp_circ_gauss_sample_uv = jax.jit(jnp_circ_gauss_sample_uv)\n",
    "\n",
    "#Running this once before the actual benchmark will ensure JIT compilation time for our function isn't mistakenly added to our benchmarks:\n",
    "jit_jnp_circ_gauss_sample_uv(u[0], v[0])\n",
    "\n",
    "%timeit np_circ_gauss_sample_uv(u,v)\n",
    "%timeit jnp_circ_gauss_sample_uv(u,v).block_until_ready()\n",
    "%timeit jit_jnp_circ_gauss_sample_uv(u,v).block_until_ready()"
   ]
  },
  {
   "cell_type": "markdown",
   "metadata": {},
   "source": [
    "Autograd for an arbitrary mathematical function:"
   ]
  },
  {
   "cell_type": "code",
   "execution_count": 4,
   "metadata": {},
   "outputs": [
    {
     "data": {
      "text/plain": [
       "DeviceArray(True, dtype=bool)"
      ]
     },
     "execution_count": 4,
     "metadata": {},
     "output_type": "execute_result"
    }
   ],
   "source": [
    "def f(x):\n",
    "    return jnp.exp( (-1)*(x**3 + x + jnp.sin(jnp.pi*x)) )\n",
    "\n",
    "\n",
    "def manual_grad_f(x):\n",
    "    return ((-1)*(3*x**2 + 1 + jnp.cos(jnp.pi*x)*jnp.pi) \n",
    "           * jnp.exp( (-1)*(x**3 + x + jnp.sin(jnp.pi*x)) ))\n",
    "\n",
    "jax_grad_f = jax.grad(f)\n",
    "jax_vectorized_grad_f = jax.vmap(jax_grad_f)\n",
    "\n",
    "x = jnp.linspace(0, 5, 100)\n",
    "y = manual_grad_f(x)\n",
    "yy = jax_vectorized_grad_f(x)\n",
    "jnp.allclose(y, yy)"
   ]
  },
  {
   "cell_type": "markdown",
   "metadata": {},
   "source": [
    "jax.scipy isn't fully implemented yet. One might try to just use regular scipy..."
   ]
  },
  {
   "cell_type": "code",
   "execution_count": null,
   "metadata": {},
   "outputs": [
    {
     "ename": "TracerArrayConversionError",
     "evalue": "The numpy.ndarray conversion method __array__() was called on the JAX Tracer object Traced<ShapedArray(int32[], weak_type=True)>with<DynamicJaxprTrace(level=0/1)>\nWhile tracing the function f at /tmp/ipykernel_62806/90201900.py:3 for jit, this concrete value was not available in Python because it depends on the value of the argument 'n'.\nSee https://jax.readthedocs.io/en/latest/errors.html#jax.errors.TracerArrayConversionError",
     "output_type": "error",
     "traceback": [
      "\u001b[0;31m---------------------------------------------------------------------------\u001b[0m\n",
      "\u001b[0;31mTracerArrayConversionError\u001b[0m                Traceback (most recent call last)\n",
      "\u001b[1;32m/home/nova/sao/modeling-tutorial/jax_numpyro_model_fitting.ipynb Cell 9\u001b[0m in \u001b[0;36m<cell line: 7>\u001b[0;34m()\u001b[0m\n",
      "\u001b[1;32m      <a href='vscode-notebook-cell:/home/nova/sao/modeling-tutorial/jax_numpyro_model_fitting.ipynb#ch0000008?line=2'>3</a>\u001b[0m \u001b[39m@jax\u001b[39m\u001b[39m.\u001b[39mjit\n",
      "\u001b[1;32m      <a href='vscode-notebook-cell:/home/nova/sao/modeling-tutorial/jax_numpyro_model_fitting.ipynb#ch0000008?line=3'>4</a>\u001b[0m \u001b[39mdef\u001b[39;00m \u001b[39mf\u001b[39m(n, x):\n",
      "\u001b[1;32m      <a href='vscode-notebook-cell:/home/nova/sao/modeling-tutorial/jax_numpyro_model_fitting.ipynb#ch0000008?line=4'>5</a>\u001b[0m     \u001b[39mreturn\u001b[39;00m sps\u001b[39m.\u001b[39mjv(n, x)\n",
      "\u001b[0;32m----> <a href='vscode-notebook-cell:/home/nova/sao/modeling-tutorial/jax_numpyro_model_fitting.ipynb#ch0000008?line=6'>7</a>\u001b[0m \u001b[39mprint\u001b[39m(f(\u001b[39m2\u001b[39;49m, \u001b[39m3.5\u001b[39;49m))\n",
      "\n",
      "    \u001b[0;31m[... skipping hidden 14 frame]\u001b[0m\n",
      "\n",
      "\u001b[1;32m/home/nova/sao/modeling-tutorial/jax_numpyro_model_fitting.ipynb Cell 9\u001b[0m in \u001b[0;36mf\u001b[0;34m(n, x)\u001b[0m\n",
      "\u001b[1;32m      <a href='vscode-notebook-cell:/home/nova/sao/modeling-tutorial/jax_numpyro_model_fitting.ipynb#ch0000008?line=2'>3</a>\u001b[0m \u001b[39m@jax\u001b[39m\u001b[39m.\u001b[39mjit\n",
      "\u001b[1;32m      <a href='vscode-notebook-cell:/home/nova/sao/modeling-tutorial/jax_numpyro_model_fitting.ipynb#ch0000008?line=3'>4</a>\u001b[0m \u001b[39mdef\u001b[39;00m \u001b[39mf\u001b[39m(n, x):\n",
      "\u001b[0;32m----> <a href='vscode-notebook-cell:/home/nova/sao/modeling-tutorial/jax_numpyro_model_fitting.ipynb#ch0000008?line=4'>5</a>\u001b[0m     \u001b[39mreturn\u001b[39;00m sps\u001b[39m.\u001b[39;49mjv(n, x)\n",
      "\n",
      "File \u001b[0;32m~/.local/lib/python3.10/site-packages/jax/core.py:516\u001b[0m, in \u001b[0;36mTracer.__array__\u001b[0;34m(self, *args, **kw)\u001b[0m\n",
      "\u001b[1;32m    515\u001b[0m \u001b[39mdef\u001b[39;00m \u001b[39m__array__\u001b[39m(\u001b[39mself\u001b[39m, \u001b[39m*\u001b[39margs, \u001b[39m*\u001b[39m\u001b[39m*\u001b[39mkw):\n",
      "\u001b[0;32m--> 516\u001b[0m   \u001b[39mraise\u001b[39;00m TracerArrayConversionError(\u001b[39mself\u001b[39m)\n",
      "\n",
      "\u001b[0;31mTracerArrayConversionError\u001b[0m: The numpy.ndarray conversion method __array__() was called on the JAX Tracer object Traced<ShapedArray(int32[], weak_type=True)>with<DynamicJaxprTrace(level=0/1)>\n",
      "While tracing the function f at /tmp/ipykernel_62806/90201900.py:3 for jit, this concrete value was not available in Python because it depends on the value of the argument 'n'.\n",
      "See https://jax.readthedocs.io/en/latest/errors.html#jax.errors.TracerArrayConversionError"
     ]
    }
   ],
   "source": [
    "import scipy.special as sps\n",
    "\n",
    "@jax.jit\n",
    "def f(n, x):\n",
    "    return sps.jv(n, x)\n",
    "\n",
    "print(f(2, 3.5)) #Error! Can't trace through scipy functions with JAX"
   ]
  },
  {
   "cell_type": "markdown",
   "metadata": {},
   "source": [
    "Some vmap performance characteristics:"
   ]
  },
  {
   "cell_type": "code",
   "execution_count": 12,
   "metadata": {},
   "outputs": [
    {
     "name": "stdout",
     "output_type": "stream",
     "text": [
      "9.47 ms ± 83.8 µs per loop (mean ± std. dev. of 7 runs, 100 loops each)\n",
      "3.06 ms ± 454 µs per loop (mean ± std. dev. of 7 runs, 1 loop each)\n",
      "523 µs ± 13.7 µs per loop (mean ± std. dev. of 7 runs, 1,000 loops each)\n"
     ]
    }
   ],
   "source": [
    "# replacement for scipy.special.jv, which is not available in jax\n",
    "# computed via trapz using the integral definition of J\n",
    "def bessel_j(n, z, num_samples=100):\n",
    "    # print(\"z\", z, z.shape, \"n\", n, n.shape)\n",
    "    z = jnp.asarray(z)\n",
    "    scalar = z.ndim == 0\n",
    "    if scalar:\n",
    "        z = z[np.newaxis]\n",
    "    z = z[:, np.newaxis]\n",
    "    tau = np.linspace(0, jnp.pi, num_samples)\n",
    "    integrands = jnp.trapz(jnp.cos(n*tau - z*jnp.sin(tau)), x=tau)\n",
    "    if scalar:\n",
    "        return (1./jnp.pi)*integrands.squeeze()\n",
    "    return (1./jnp.pi)*integrands\n",
    "\n",
    "def bessel_j_vtest(n, z, num_samples=100):\n",
    "    tau = np.linspace(0, jnp.pi, num_samples)\n",
    "    integrands = jnp.trapz(jnp.cos(n*tau - z*jnp.sin(tau)), x=tau)\n",
    "    return (1./jnp.pi)*integrands\n",
    "\n",
    "jnp_bessel_j_vtest = jax.vmap(bessel_j_vtest, in_axes=(0, 0), out_axes=0)\n",
    "\n",
    "def np_bessel_j(n, z, num_samples=100):\n",
    "    # print(\"z\", z, z.shape, \"n\", n, n.shape)\n",
    "    z = np.asarray(z)\n",
    "    scalar = z.ndim == 0\n",
    "    if scalar:\n",
    "        z = z[np.newaxis]\n",
    "    z = z[:, np.newaxis]\n",
    "    tau = np.linspace(0, np.pi, num_samples)\n",
    "    integrands = np.trapz(np.cos(n*tau - z*np.sin(tau)), x=tau)\n",
    "    if scalar:\n",
    "        return (1./np.pi)*integrands.squeeze()\n",
    "    return (1./np.pi)*integrands\n",
    "\n",
    "def np_bessel_j_vtest(n, z, num_samples=100):\n",
    "    tau = np.linspace(0, np.pi, num_samples)\n",
    "    integrands = np.trapz(np.cos(n*tau - z*np.sin(tau)), x=tau)\n",
    "    return (1./np.pi)*integrands\n",
    "\n",
    "np_bessel_j_vtest = np.vectorize(np_bessel_j_vtest)\n",
    "\n",
    "%timeit np_bessel_j_vtest(np.arange(100), np.arange(100))\n",
    "%timeit jnp_bessel_j_vtest(jnp.arange(100), jnp.arange(100))\n",
    "%timeit jax.jit(jnp_bessel_j_vtest)(jnp.arange(100), jnp.arange(100))\n"
   ]
  },
  {
   "cell_type": "markdown",
   "metadata": {},
   "source": [
    "Making and printing of jaxprs:"
   ]
  },
  {
   "cell_type": "code",
   "execution_count": 6,
   "metadata": {},
   "outputs": [
    {
     "name": "stdout",
     "output_type": "stream",
     "text": [
      "{ lambda ; a:f32[]. let\n",
      "    b:f32[] = integer_pow[y=3] a\n",
      "    c:f32[] = add b a\n",
      "    d:f32[] = mul a 3.141592653589793\n",
      "    e:f32[] = sin d\n",
      "    f:f32[] = add c e\n",
      "    g:f32[] = mul f -1.0\n",
      "    h:f32[] = exp g\n",
      "  in (h,) }\n"
     ]
    }
   ],
   "source": [
    "def f(x):\n",
    "    return jnp.exp( (-1)*(x**3 + x + jnp.sin(jnp.pi*x)) )\n",
    "\n",
    "print(jax.make_jaxpr(f)(1.))"
   ]
  },
  {
   "cell_type": "markdown",
   "metadata": {},
   "source": [
    "Tracing of JAX code: (note the overwriting of x and y inputs with JAX Tracers)"
   ]
  },
  {
   "cell_type": "code",
   "execution_count": 14,
   "metadata": {},
   "outputs": [
    {
     "name": "stdout",
     "output_type": "stream",
     "text": [
      "Running f():\n",
      "  x = Traced<ShapedArray(float32[3,4])>with<DynamicJaxprTrace(level=0/1)>\n",
      "  y = Traced<ShapedArray(float32[4])>with<DynamicJaxprTrace(level=0/1)>\n",
      "  result = Traced<ShapedArray(float32[3])>with<DynamicJaxprTrace(level=0/1)>\n"
     ]
    },
    {
     "data": {
      "text/plain": [
       "DeviceArray([2.1702843 , 2.0629063 , 0.35211653], dtype=float32)"
      ]
     },
     "execution_count": 14,
     "metadata": {},
     "output_type": "execute_result"
    }
   ],
   "source": [
    "@jax.jit\n",
    "def f(x, y):\n",
    "  print(\"Running f():\")\n",
    "  print(f\"  x = {x}\")\n",
    "  print(f\"  y = {y}\")\n",
    "  result = jnp.dot(x + 1, y + 1)\n",
    "  print(f\"  result = {result}\")\n",
    "  return result\n",
    "\n",
    "x = np.random.randn(3, 4)\n",
    "y = np.random.randn(4)\n",
    "f(x, y)"
   ]
  },
  {
   "cell_type": "markdown",
   "metadata": {},
   "source": [
    "Sometimes JAX objects can leak into global Python code and cause unexpected behavior!"
   ]
  },
  {
   "cell_type": "code",
   "execution_count": 14,
   "metadata": {},
   "outputs": [
    {
     "ename": "UnexpectedTracerError",
     "evalue": "Encountered an unexpected tracer. A function transformed by JAX had a side effect, allowing for a reference to an intermediate value with shape () and dtype int32 to escape.\nJAX transformations require that functions explicitly return their outputs, and disallow saving intermediate values to global state.\nThe function being traced when the value leaked was f at /tmp/ipykernel_62806/3481876261.py:3 traced for jit.\n------------------------------\nThe leaked intermediate value was created on line /tmp/ipykernel_62806/3481876261.py:5 (f). \n------------------------------\nWhen the value was created, the final 5 stack frames (most recent last) excluding JAX-internal frames were:\n------------------------------\n/home/nova/.local/lib/python3.10/site-packages/IPython/core/interactiveshell.py:3080 (run_cell_async)\n/home/nova/.local/lib/python3.10/site-packages/IPython/core/interactiveshell.py:3277 (run_ast_nodes)\n/home/nova/.local/lib/python3.10/site-packages/IPython/core/interactiveshell.py:3366 (run_code)\n/tmp/ipykernel_62806/3481876261.py:8 (<cell line: 8>)\n/tmp/ipykernel_62806/3481876261.py:5 (f)\n------------------------------\n\nTo catch the leak earlier, try setting the environment variable JAX_CHECK_TRACER_LEAKS or using the `jax.checking_leaks` context manager.\nSee https://jax.readthedocs.io/en/latest/errors.html#jax.errors.UnexpectedTracerError",
     "output_type": "error",
     "traceback": [
      "\u001b[0;31m---------------------------------------------------------------------------\u001b[0m",
      "\u001b[0;31mUnexpectedTracerError\u001b[0m                     Traceback (most recent call last)",
      "\u001b[1;32m/home/nova/sao/modeling-tutorial/jax_numpyro_model_fitting.ipynb Cell 10\u001b[0m in \u001b[0;36m<cell line: 10>\u001b[0;34m()\u001b[0m\n\u001b[1;32m      <a href='vscode-notebook-cell:/home/nova/sao/modeling-tutorial/jax_numpyro_model_fitting.ipynb#ch0000009?line=7'>8</a>\u001b[0m f(\u001b[39m3\u001b[39m)\n\u001b[1;32m     <a href='vscode-notebook-cell:/home/nova/sao/modeling-tutorial/jax_numpyro_model_fitting.ipynb#ch0000009?line=9'>10</a>\u001b[0m \u001b[39mfor\u001b[39;00m elt \u001b[39min\u001b[39;00m y:\n\u001b[0;32m---> <a href='vscode-notebook-cell:/home/nova/sao/modeling-tutorial/jax_numpyro_model_fitting.ipynb#ch0000009?line=10'>11</a>\u001b[0m     \u001b[39mprint\u001b[39m(elt \u001b[39m+\u001b[39;49m \u001b[39m3\u001b[39;49m)\n",
      "File \u001b[0;32m~/.local/lib/python3.10/site-packages/jax/core.py:549\u001b[0m, in \u001b[0;36mTracer.__add__\u001b[0;34m(self, other)\u001b[0m\n\u001b[0;32m--> 549\u001b[0m \u001b[39mdef\u001b[39;00m \u001b[39m__add__\u001b[39m(\u001b[39mself\u001b[39m, other): \u001b[39mreturn\u001b[39;00m \u001b[39mself\u001b[39;49m\u001b[39m.\u001b[39;49maval\u001b[39m.\u001b[39;49m_add(\u001b[39mself\u001b[39;49m, other)\n",
      "File \u001b[0;32m~/.local/lib/python3.10/site-packages/jax/_src/numpy/lax_numpy.py:4501\u001b[0m, in \u001b[0;36m_defer_to_unrecognized_arg.<locals>.deferring_binary_op\u001b[0;34m(self, other)\u001b[0m\n\u001b[1;32m   4499\u001b[0m \u001b[39mif\u001b[39;00m \u001b[39mnot\u001b[39;00m \u001b[39misinstance\u001b[39m(other, _accepted_binop_types):\n\u001b[1;32m   4500\u001b[0m   \u001b[39mreturn\u001b[39;00m \u001b[39mNotImplemented\u001b[39m\n\u001b[0;32m-> 4501\u001b[0m \u001b[39mreturn\u001b[39;00m binary_op(\u001b[39mself\u001b[39;49m, other)\n",
      "    \u001b[0;31m[... skipping hidden 5 frame]\u001b[0m\n",
      "File \u001b[0;32m~/.local/lib/python3.10/site-packages/jax/interpreters/partial_eval.py:1302\u001b[0m, in \u001b[0;36mDynamicJaxprTracer._assert_live\u001b[0;34m(self)\u001b[0m\n\u001b[1;32m   1300\u001b[0m \u001b[39mdef\u001b[39;00m \u001b[39m_assert_live\u001b[39m(\u001b[39mself\u001b[39m) \u001b[39m-\u001b[39m\u001b[39m>\u001b[39m \u001b[39mNone\u001b[39;00m:\n\u001b[1;32m   1301\u001b[0m   \u001b[39mif\u001b[39;00m \u001b[39mnot\u001b[39;00m \u001b[39mself\u001b[39m\u001b[39m.\u001b[39m_trace\u001b[39m.\u001b[39mmain\u001b[39m.\u001b[39mjaxpr_stack:  \u001b[39m# type: ignore\u001b[39;00m\n\u001b[0;32m-> 1302\u001b[0m     \u001b[39mraise\u001b[39;00m core\u001b[39m.\u001b[39mescaped_tracer_error(\u001b[39mself\u001b[39m, \u001b[39mNone\u001b[39;00m)\n",
      "\u001b[0;31mUnexpectedTracerError\u001b[0m: Encountered an unexpected tracer. A function transformed by JAX had a side effect, allowing for a reference to an intermediate value with shape () and dtype int32 to escape.\nJAX transformations require that functions explicitly return their outputs, and disallow saving intermediate values to global state.\nThe function being traced when the value leaked was f at /tmp/ipykernel_62806/3481876261.py:3 traced for jit.\n------------------------------\nThe leaked intermediate value was created on line /tmp/ipykernel_62806/3481876261.py:5 (f). \n------------------------------\nWhen the value was created, the final 5 stack frames (most recent last) excluding JAX-internal frames were:\n------------------------------\n/home/nova/.local/lib/python3.10/site-packages/IPython/core/interactiveshell.py:3080 (run_cell_async)\n/home/nova/.local/lib/python3.10/site-packages/IPython/core/interactiveshell.py:3277 (run_ast_nodes)\n/home/nova/.local/lib/python3.10/site-packages/IPython/core/interactiveshell.py:3366 (run_code)\n/tmp/ipykernel_62806/3481876261.py:8 (<cell line: 8>)\n/tmp/ipykernel_62806/3481876261.py:5 (f)\n------------------------------\n\nTo catch the leak earlier, try setting the environment variable JAX_CHECK_TRACER_LEAKS or using the `jax.checking_leaks` context manager.\nSee https://jax.readthedocs.io/en/latest/errors.html#jax.errors.UnexpectedTracerError"
     ]
    }
   ],
   "source": [
    "y = []\n",
    "\n",
    "@jax.jit\n",
    "def f(x):\n",
    "    x+=1\n",
    "    y.append(x)\n",
    "\n",
    "f(3)\n",
    "\n",
    "for elt in y:\n",
    "    print(elt + 3)"
   ]
  },
  {
   "cell_type": "markdown",
   "metadata": {},
   "source": [
    "Control flow in JAX can be a little tricky!"
   ]
  },
  {
   "cell_type": "code",
   "execution_count": 21,
   "metadata": {},
   "outputs": [
    {
     "ename": "ConcretizationTypeError",
     "evalue": "Abstract tracer value encountered where concrete value is expected: Traced<ShapedArray(bool[], weak_type=True)>with<DynamicJaxprTrace(level=0/1)>\nThe problem arose with the `bool` function. \nWhile tracing the function relu at /tmp/ipykernel_62806/2780043258.py:1 for jit, this concrete value was not available in Python because it depends on the value of the argument 'x'.\n\nSee https://jax.readthedocs.io/en/latest/errors.html#jax.errors.ConcretizationTypeError",
     "output_type": "error",
     "traceback": [
      "\u001b[0;31m---------------------------------------------------------------------------\u001b[0m",
      "\u001b[0;31mConcretizationTypeError\u001b[0m                   Traceback (most recent call last)",
      "\u001b[1;32m/home/nova/sao/modeling-tutorial/jax_numpyro_model_fitting.ipynb Cell 11\u001b[0m in \u001b[0;36m<cell line: 7>\u001b[0;34m()\u001b[0m\n\u001b[1;32m      <a href='vscode-notebook-cell:/home/nova/sao/modeling-tutorial/jax_numpyro_model_fitting.ipynb#ch0000010?line=3'>4</a>\u001b[0m         \u001b[39mreturn\u001b[39;00m \u001b[39m0\u001b[39m\n\u001b[1;32m      <a href='vscode-notebook-cell:/home/nova/sao/modeling-tutorial/jax_numpyro_model_fitting.ipynb#ch0000010?line=4'>5</a>\u001b[0m     \u001b[39mreturn\u001b[39;00m x\n\u001b[0;32m----> <a href='vscode-notebook-cell:/home/nova/sao/modeling-tutorial/jax_numpyro_model_fitting.ipynb#ch0000010?line=6'>7</a>\u001b[0m relu(\u001b[39m-\u001b[39;49m\u001b[39m3\u001b[39;49m)\n",
      "    \u001b[0;31m[... skipping hidden 14 frame]\u001b[0m\n",
      "\u001b[1;32m/home/nova/sao/modeling-tutorial/jax_numpyro_model_fitting.ipynb Cell 11\u001b[0m in \u001b[0;36mrelu\u001b[0;34m(x)\u001b[0m\n\u001b[1;32m      <a href='vscode-notebook-cell:/home/nova/sao/modeling-tutorial/jax_numpyro_model_fitting.ipynb#ch0000010?line=0'>1</a>\u001b[0m \u001b[39m@jax\u001b[39m\u001b[39m.\u001b[39mjit\n\u001b[1;32m      <a href='vscode-notebook-cell:/home/nova/sao/modeling-tutorial/jax_numpyro_model_fitting.ipynb#ch0000010?line=1'>2</a>\u001b[0m \u001b[39mdef\u001b[39;00m \u001b[39mrelu\u001b[39m(x):\n\u001b[0;32m----> <a href='vscode-notebook-cell:/home/nova/sao/modeling-tutorial/jax_numpyro_model_fitting.ipynb#ch0000010?line=2'>3</a>\u001b[0m     \u001b[39mif\u001b[39;00m x\u001b[39m<\u001b[39m\u001b[39m0\u001b[39m:\n\u001b[1;32m      <a href='vscode-notebook-cell:/home/nova/sao/modeling-tutorial/jax_numpyro_model_fitting.ipynb#ch0000010?line=3'>4</a>\u001b[0m         \u001b[39mreturn\u001b[39;00m \u001b[39m0\u001b[39m\n\u001b[1;32m      <a href='vscode-notebook-cell:/home/nova/sao/modeling-tutorial/jax_numpyro_model_fitting.ipynb#ch0000010?line=4'>5</a>\u001b[0m     \u001b[39mreturn\u001b[39;00m x\n",
      "    \u001b[0;31m[... skipping hidden 1 frame]\u001b[0m\n",
      "File \u001b[0;32m~/.local/lib/python3.10/site-packages/jax/core.py:1123\u001b[0m, in \u001b[0;36mconcretization_function_error.<locals>.error\u001b[0;34m(self, arg)\u001b[0m\n\u001b[1;32m   1122\u001b[0m \u001b[39mdef\u001b[39;00m \u001b[39merror\u001b[39m(\u001b[39mself\u001b[39m, arg):\n\u001b[0;32m-> 1123\u001b[0m   \u001b[39mraise\u001b[39;00m ConcretizationTypeError(arg, fname_context)\n",
      "\u001b[0;31mConcretizationTypeError\u001b[0m: Abstract tracer value encountered where concrete value is expected: Traced<ShapedArray(bool[], weak_type=True)>with<DynamicJaxprTrace(level=0/1)>\nThe problem arose with the `bool` function. \nWhile tracing the function relu at /tmp/ipykernel_62806/2780043258.py:1 for jit, this concrete value was not available in Python because it depends on the value of the argument 'x'.\n\nSee https://jax.readthedocs.io/en/latest/errors.html#jax.errors.ConcretizationTypeError"
     ]
    }
   ],
   "source": [
    "@jax.jit\n",
    "def relu(x):\n",
    "    if x<0:\n",
    "        return 0\n",
    "    return x\n",
    "\n",
    "relu(-3)\n"
   ]
  }
 ],
 "metadata": {
  "kernelspec": {
   "display_name": "Python 3.10.5 64-bit",
   "language": "python",
   "name": "python3"
  },
  "language_info": {
   "codemirror_mode": {
    "name": "ipython",
    "version": 3
   },
   "file_extension": ".py",
   "mimetype": "text/x-python",
   "name": "python",
   "nbconvert_exporter": "python",
   "pygments_lexer": "ipython3",
   "version": "3.10.5"
  },
  "orig_nbformat": 4,
  "vscode": {
   "interpreter": {
    "hash": "e7370f93d1d0cde622a1f8e1c04877d8463912d04d973331ad4851f04de6915a"
   }
  }
 },
 "nbformat": 4,
 "nbformat_minor": 2
}
